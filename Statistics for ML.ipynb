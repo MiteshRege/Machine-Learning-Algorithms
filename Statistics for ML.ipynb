{
 "cells": [
  {
   "cell_type": "markdown",
   "id": "b97f382d",
   "metadata": {},
   "source": [
    "# what is is statistics ?\n"
   ]
  },
  {
   "cell_type": "markdown",
   "id": "a77d9976",
   "metadata": {},
   "source": []
  },
  {
   "cell_type": "markdown",
   "id": "2e24920b",
   "metadata": {},
   "source": []
  },
  {
   "cell_type": "markdown",
   "id": "50e300be",
   "metadata": {},
   "source": [
    "# Use of Sta"
   ]
  },
  {
   "cell_type": "code",
   "execution_count": null,
   "id": "6f8fef84",
   "metadata": {},
   "outputs": [],
   "source": []
  },
  {
   "cell_type": "markdown",
   "id": "376f41dd",
   "metadata": {},
   "source": [
    "## Population & Sample\n",
    "- Population : All data points under observation\n",
    "- Samples    : Subset of total observed population"
   ]
  },
  {
   "cell_type": "markdown",
   "id": "584b17bd",
   "metadata": {},
   "source": [
    "-\n",
    "- "
   ]
  },
  {
   "cell_type": "code",
   "execution_count": null,
   "id": "8eec6491",
   "metadata": {},
   "outputs": [],
   "source": []
  },
  {
   "cell_type": "code",
   "execution_count": null,
   "id": "db8b00ec",
   "metadata": {},
   "outputs": [],
   "source": []
  },
  {
   "cell_type": "code",
   "execution_count": null,
   "id": "7f40f916",
   "metadata": {},
   "outputs": [],
   "source": []
  }
 ],
 "metadata": {
  "kernelspec": {
   "display_name": "Python 3 (ipykernel)",
   "language": "python",
   "name": "python3"
  },
  "language_info": {
   "codemirror_mode": {
    "name": "ipython",
    "version": 3
   },
   "file_extension": ".py",
   "mimetype": "text/x-python",
   "name": "python",
   "nbconvert_exporter": "python",
   "pygments_lexer": "ipython3",
   "version": "3.10.0"
  }
 },
 "nbformat": 4,
 "nbformat_minor": 5
}
