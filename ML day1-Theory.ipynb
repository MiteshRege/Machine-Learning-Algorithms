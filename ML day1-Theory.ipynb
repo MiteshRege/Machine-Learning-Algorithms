{
 "cells": [
  {
   "cell_type": "markdown",
   "id": "8dff3933",
   "metadata": {},
   "source": [
    "## Introduction "
   ]
  },
  {
   "cell_type": "markdown",
   "id": "7ca914d1",
   "metadata": {},
   "source": [
    "#### ML was orignally invented by John mcCarthy in 1995\n",
    "#### Earlier it was called as Symbolic AI  , now its ML\n",
    "\n",
    "## Difference between AI & ML"
   ]
  },
  {
   "cell_type": "markdown",
   "id": "c3a3334b",
   "metadata": {},
   "source": [
    "### AI"
   ]
  },
  {
   "cell_type": "markdown",
   "id": "c6e01052",
   "metadata": {},
   "source": [
    "- The goal is to collect & apply knowedge\n",
    "- The focus is to get the better chance of sucess but , **not the accuracy**\n",
    "- It functions as a program for smart work.\n",
    "- The whole point is to make a simulation of natural intelligence to solve the sophisticated problems.\n",
    "- AI is for making decisions\n",
    "- It results in creating a system for mimicking human response and behaviour.\n",
    "- Al works to find a solution that is optimal for the situation.\n",
    "- Al helps to achieve intelligence or wisdom."
   ]
  },
  {
   "cell_type": "markdown",
   "id": "ae0b38bd",
   "metadata": {},
   "source": [
    "## ML"
   ]
  },
  {
   "cell_type": "markdown",
   "id": "fb8a3e27",
   "metadata": {},
   "source": [
    "- The goals are to learn knowledge and skills.\n",
    "\n",
    "- The focus is on improving the accuracy, but not a final result.\n",
    "\n",
    "- A computer collects the data and learns from it.\n",
    "\n",
    "- ML enables systems to find out new things from the information.\n",
    "\n",
    "- ML builds new self-learning algorithms for the system. * ML will choose one solution, it doesn't matter if it's optimal or not.\n",
    "\n",
    "- ML leads to obtaining knowledge.\n"
   ]
  },
  {
   "cell_type": "markdown",
   "id": "e06d4d42",
   "metadata": {},
   "source": [
    "## Deep Learning vs Machine Learning\n",
    "- DL is a subset of ML that uses neural networks to make decisions.\n",
    "\n",
    "## Types of Machine Learning Models\n",
    "\n",
    "1. Supervised Learning\n",
    "\n",
    "2. Unsupervised Learning\n",
    "\n",
    "3. Semi-supervised Learning\n",
    "\n",
    "4. Reinforcement Learning"
   ]
  },
  {
   "cell_type": "markdown",
   "id": "59c9f5d5",
   "metadata": {},
   "source": [
    "## Benefits for Business\n",
    "\n",
    "1. Faster Decision - Making\n",
    "\n",
    "2. Adaptability\n",
    "\n",
    "3. Innovation\n",
    "\n",
    "4. Predicitve Insights\n",
    "\n",
    "5. Maximized Efficiency\n",
    "\n",
    "6. Driving Better Outcomes"
   ]
  },
  {
   "cell_type": "markdown",
   "id": "1c303dcd",
   "metadata": {},
   "source": [
    "### end of session"
   ]
  }
 ],
 "metadata": {
  "kernelspec": {
   "display_name": "Python 3 (ipykernel)",
   "language": "python",
   "name": "python3"
  },
  "language_info": {
   "codemirror_mode": {
    "name": "ipython",
    "version": 3
   },
   "file_extension": ".py",
   "mimetype": "text/x-python",
   "name": "python",
   "nbconvert_exporter": "python",
   "pygments_lexer": "ipython3",
   "version": "3.10.0"
  }
 },
 "nbformat": 4,
 "nbformat_minor": 5
}
