{
 "cells": [
  {
   "cell_type": "markdown",
   "id": "d9e06a93",
   "metadata": {},
   "source": [
    "## What is K-means ?\n",
    "- It is very famous and power full unsupervised **Ml algorithm** for clustering \n",
    "- Used to solve many complexx problems \n",
    "- Examples : \n",
    "  - Identify fake news\n",
    "  - spam filtering \n",
    "  - classify network traffic \n",
    "  - marketing and sales\n",
    "  \n",
    "  \n",
    "AK-Means Clustering Algorithm tries to group similar items in the form of clusters. The number of these groups is represented by K.\n",
    "\n",
    "## how does the K-Means custering algorithm work?\n",
    " 1.  select the k values\n",
    " 2. Intialize the centroids\n",
    " 3. select the group and find the average"
   ]
  },
  {
   "cell_type": "markdown",
   "id": "333fb87d",
   "metadata": {},
   "source": [
    "Note: k-Means uses the Euclidean Distance method to find out the distance between the two data points. And then to hence optimize the cluster centers\n",
    "\n",
    "aka centroids\n",
    "\n",
    "### How do we choose the right value of K?\n",
    "\n",
    "1. Elbow method\n",
    "\n",
    "2. Silhouette method\n",
    "\n",
    "\n",
    "Note: Random method might be right or might be wrong. It cannot be relied on completely to select the right value of k. Because if the wrong value is selected, it will directly affect our model performance.\n",
    "\n",
    "wcss: within cluster sum of squares"
   ]
  },
  {
   "cell_type": "markdown",
   "id": "513802d1",
   "metadata": {},
   "source": [
    "## advantages of K-Means\n",
    "\n",
    "• very simple to implement\n",
    "\n",
    "• adpats to new examples very frequently\n",
    "\n",
    "scalable to huge datasets\n",
    "\n",
    "• generlatization of clusters for different shapes and sizes\n",
    "\n",
    "## disadvantages of K-Means\n",
    "\n",
    "very sensitive to outliers\n",
    "\n",
    "choosing the right value of k is manually a tough job as the number of dimensions increase, the scalability decreases"
   ]
  },
  {
   "cell_type": "markdown",
   "id": "58ac6b2a",
   "metadata": {},
   "source": [
    "## Practical Implementation of k-Means in Python using Scikit-Learn"
   ]
  },
  {
   "cell_type": "code",
   "execution_count": 7,
   "id": "5e693ca6",
   "metadata": {},
   "outputs": [
    {
     "ename": "ModuleNotFoundError",
     "evalue": "No module named 'sklearn.datasets.samples_generator'",
     "output_type": "error",
     "traceback": [
      "\u001b[1;31m---------------------------------------------------------------------------\u001b[0m",
      "\u001b[1;31mModuleNotFoundError\u001b[0m                       Traceback (most recent call last)",
      "\u001b[1;32mC:\\Users\\MITESH~1\\AppData\\Local\\Temp/ipykernel_3440/4260166200.py\u001b[0m in \u001b[0;36m<module>\u001b[1;34m\u001b[0m\n\u001b[0;32m      7\u001b[0m \u001b[1;33m\u001b[0m\u001b[0m\n\u001b[0;32m      8\u001b[0m \u001b[1;31m# from sklearn.datasets.samples_generator import make_blobs\u001b[0m\u001b[1;33m\u001b[0m\u001b[1;33m\u001b[0m\u001b[0m\n\u001b[1;32m----> 9\u001b[1;33m \u001b[1;32mfrom\u001b[0m \u001b[0msklearn\u001b[0m\u001b[1;33m.\u001b[0m\u001b[0mdatasets\u001b[0m\u001b[1;33m.\u001b[0m\u001b[0msamples_generator\u001b[0m \u001b[1;32mimport\u001b[0m \u001b[0mmake_blobs\u001b[0m\u001b[1;33m\u001b[0m\u001b[1;33m\u001b[0m\u001b[0m\n\u001b[0m",
      "\u001b[1;31mModuleNotFoundError\u001b[0m: No module named 'sklearn.datasets.samples_generator'"
     ]
    }
   ],
   "source": [
    "# imports\n",
    "import numpy as np\n",
    "import pandas as pd\n",
    "import matplotlib.pyplot as plt\n",
    "%matplotlib inline\n",
    "from sklearn.cluster import KMeans \n",
    "\n",
    "# from sklearn.datasets.samples_generator import make_blobs\n",
    "from sklearn.datasets.samples_generator import make_blobs"
   ]
  },
  {
   "cell_type": "code",
   "execution_count": 2,
   "id": "d6f74dae",
   "metadata": {},
   "outputs": [
    {
     "ename": "SyntaxError",
     "evalue": "invalid syntax. Perhaps you forgot a comma? (Temp/ipykernel_3440/2278399166.py, line 2)",
     "output_type": "error",
     "traceback": [
      "\u001b[1;36m  File \u001b[1;32m\"C:\\Users\\MITESH~1\\AppData\\Local\\Temp/ipykernel_3440/2278399166.py\"\u001b[1;36m, line \u001b[1;32m2\u001b[0m\n\u001b[1;33m    X, y  = make_blobs (n_samples= 15000, centers=6, cluster_std 1.1, random_state=101)\u001b[0m\n\u001b[1;37m                                                     ^\u001b[0m\n\u001b[1;31mSyntaxError\u001b[0m\u001b[1;31m:\u001b[0m invalid syntax. Perhaps you forgot a comma?\n"
     ]
    }
   ],
   "source": [
    "# generate sample data for\n",
    "X, y  = make_blobs (n_samples= 15000, centers=6,cluster_std 1.1, random_state=101)\n",
    "\n",
    "plt.scatter(x[:, 0], X[:, 1])\n",
    "plt.grid(True)"
   ]
  },
  {
   "cell_type": "code",
   "execution_count": null,
   "id": "1f898c2d",
   "metadata": {},
   "outputs": [],
   "source": [
    "visulaizing elbow method\n",
    "\n",
    "WCSS []\n",
    "\n",
    "for i in range(4, 10):\n",
    "\n",
    "kmeans KMeans (n clusters-i, init= k-means++ max iter-300, n init-10, random state=101)\n",
    "\n",
    "kmeans.fit(X)\n",
    "\n",
    "wcss.append (kmeans. inertia)\n",
    "\n",
    "plt.plot(range (4, 10), wcss) plt.title('Elbow Method) plt.xlabel( No. of clusters) plt.ylabell WCSS"
   ]
  },
  {
   "cell_type": "code",
   "execution_count": null,
   "id": "c319e114",
   "metadata": {},
   "outputs": [],
   "source": [
    "# do the clustering\n",
    "\n",
    "kmeans KMeans (n clusters 6, init = k-means++, max iter = 300, n init 101 y pred kmeans. fit predict (X)\n",
    "\n",
    "plt scatter (X[: 0], X[:, 11) plt scatter (kmeans.cluster centers [ 91, kmeans cluster centers 1, 11, 53, cred)"
   ]
  },
  {
   "cell_type": "code",
   "execution_count": null,
   "id": "d5cec559",
   "metadata": {},
   "outputs": [],
   "source": [
    "# do the clustering\n",
    "\n",
    "kmeans KMeans (n_clusters = 6, init= 'k-means++', max iter = 300, n init = 10)\n",
    "\n",
    "y pred kmeans.fit_predict (X)\n",
    "\n",
    "plt.scatter (X[:, 0], X[:, 1])\n",
    "\n",
    "plt.scatter (kmeans.cluster centers [:, 0], kmeans.cluster_centers_(:, 1), s = 30,red\")\n",
    "\n",
    "Out [18]: <matplotlib.collections. PathCollection at 0x7fd2feec5780>"
   ]
  },
  {
   "cell_type": "code",
   "execution_count": null,
   "id": "41e9915f",
   "metadata": {},
   "outputs": [],
   "source": [
    "kmeans.cluster centers"
   ]
  }
 ],
 "metadata": {
  "kernelspec": {
   "display_name": "Python 3 (ipykernel)",
   "language": "python",
   "name": "python3"
  },
  "language_info": {
   "codemirror_mode": {
    "name": "ipython",
    "version": 3
   },
   "file_extension": ".py",
   "mimetype": "text/x-python",
   "name": "python",
   "nbconvert_exporter": "python",
   "pygments_lexer": "ipython3",
   "version": "3.10.0"
  }
 },
 "nbformat": 4,
 "nbformat_minor": 5
}
