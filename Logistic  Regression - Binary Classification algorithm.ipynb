{
 "cells": [
  {
   "cell_type": "markdown",
   "id": "8f1593b6",
   "metadata": {},
   "source": [
    "## Introduction\n",
    "- Two Class or Binary **Classification** Problem\n",
    "- Major implementations of this algorithm are :\n",
    " 1. Rainfall prediction \n",
    " 2.Click prediction\n",
    " 3.Spam detection , etc"
   ]
  },
  {
   "cell_type": "markdown",
   "id": "7d736b25",
   "metadata": {},
   "source": [
    "## Fundamental concepts of logistic regression :\n",
    "\n",
    "- Outcome / target variable  / dependent variable  is dichotous in nature (dichotous means can take 2 values)\n",
    "- There are two possible class it can take\n",
    "- Uses log of odds as the dependent  variable\n",
    "- Predicts the  probability of the occurrence of a binary event utilizing a logit (sigmoid) function"
   ]
  },
  {
   "cell_type": "markdown",
   "id": "f9484ae4",
   "metadata": {},
   "source": [
    "Normal Linear regression eqn we know that is : y = b +m1x1 + m2x2 + m3x3 + .. mnxn \n",
    "## Sigmoid / logit function \n",
    "\n",
    "###  p =  1 / ( 1 +  e^(-y) )\n",
    "\n",
    "## Goal of logistic Regression : \n",
    "- It is to find the appropriate probability  for all possible  outcomes of the target variable.\n",
    "\n",
    "### Example : \n",
    "- To predict if its going to rain tommorrow  or not ??\n",
    "  - It will rain (1)\n",
    "  - It will not rain (0)\n",
    "  \n",
    "- This is the binary classificstion problem <br>\n",
    "  - 1 : probability of  event 1 happening \n",
    "  - 0 : probability of  event 0 happening \n",
    "\n",
    "\n",
    "### As we know !! : probability( 0 )  +  probability( 1 )  = 1"
   ]
  },
  {
   "cell_type": "code",
   "execution_count": null,
   "id": "a7f7b87c",
   "metadata": {},
   "outputs": [],
   "source": [
    "import numpy as np\n",
    "import pandas as pd\n",
    "import matplotlib.pyplot as plt \n",
    "%matplotlib inline\n",
    "import seaborn as sns"
   ]
  }
 ],
 "metadata": {
  "kernelspec": {
   "display_name": "Python 3 (ipykernel)",
   "language": "python",
   "name": "python3"
  },
  "language_info": {
   "codemirror_mode": {
    "name": "ipython",
    "version": 3
   },
   "file_extension": ".py",
   "mimetype": "text/x-python",
   "name": "python",
   "nbconvert_exporter": "python",
   "pygments_lexer": "ipython3",
   "version": "3.10.0"
  }
 },
 "nbformat": 4,
 "nbformat_minor": 5
}
