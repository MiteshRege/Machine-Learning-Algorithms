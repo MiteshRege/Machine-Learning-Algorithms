{
 "cells": [
  {
   "cell_type": "code",
   "execution_count": 2,
   "id": "efaeb56e",
   "metadata": {},
   "outputs": [],
   "source": [
    "# Preparation\n",
    "import numpy as np  # here np os alias(nick name given o numpy)"
   ]
  },
  {
   "cell_type": "code",
   "execution_count": 2,
   "id": "16d1bf87",
   "metadata": {},
   "outputs": [],
   "source": [
    "# np.function_name    --> This is syntax ro use any-function of numpy "
   ]
  },
  {
   "cell_type": "markdown",
   "id": "0b422063",
   "metadata": {},
   "source": [
    " What is Numpy ?\n",
    "\n",
    " -  It is the Mathematical Library used in Data Science & Python\n",
    "### The main objectiv of numpy is Numpy Array \n",
    "\n",
    "- It is similar to that of the list\n",
    "- It is a Scalable \n",
    "- Generallay Fixed in size \n",
    "- Each element has same datatype \n",
    "\n",
    "## Why is Numpy Used ?\n",
    "\n",
    "- Part - 1 : Creating a numpy Array \n",
    "- Part - 2 : Indexing & Assigning a new value in Array \n",
    "- Part - 3 : IMP Attributes  \n",
    "           1.     .size , .ndim , .shape  , .dtype\n",
    "           2.     .mean() , .min()  , .std()  , .max()\n",
    "           3.     New Encode of data types as U1,... & U11 for numbers\n",
    "           4.     Mathematical operations  & Functions between two arrays \n",
    "                     -  Addition & Substraction                          as   x-y\n",
    "                     -  Scalar addiotion & Scalar Multiplication         as   X+2 & x*2\n",
    "                     -   Product of two Numpy Array                      as   x*y\n",
    "                     -   Dot & Cross Product                             as   np.dot/cross(x,y)                  5.     Numpy Trigo Functions :\n",
    "                     -   np.pi\n",
    "                     -   np.sin\n",
    "                     -   np.cos lly np.tan"
   ]
  },
  {
   "cell_type": "code",
   "execution_count": 4,
   "id": "ba6bd3a0",
   "metadata": {},
   "outputs": [
    {
     "data": {
      "text/plain": [
       "array([0, 1, 2, 3, 4, 5])"
      ]
     },
     "execution_count": 4,
     "metadata": {},
     "output_type": "execute_result"
    }
   ],
   "source": [
    "# Creating our first array\n",
    "a = np.array([0,1,2,3,4,5])\n",
    "a"
   ]
  },
  {
   "cell_type": "code",
   "execution_count": 5,
   "id": "f56864c9",
   "metadata": {},
   "outputs": [
    {
     "data": {
      "text/plain": [
       "numpy.ndarray"
      ]
     },
     "execution_count": 5,
     "metadata": {},
     "output_type": "execute_result"
    }
   ],
   "source": [
    "type(a) # Since the Numpy can Handle nD-Arrary"
   ]
  },
  {
   "cell_type": "code",
   "execution_count": 6,
   "id": "f1f1b831",
   "metadata": {},
   "outputs": [
    {
     "data": {
      "text/plain": [
       "(6,)"
      ]
     },
     "execution_count": 6,
     "metadata": {},
     "output_type": "execute_result"
    }
   ],
   "source": [
    "a.shape  # Since its 1D "
   ]
  },
  {
   "cell_type": "code",
   "execution_count": 7,
   "id": "908c4ffa",
   "metadata": {},
   "outputs": [
    {
     "data": {
      "text/plain": [
       "dtype('int32')"
      ]
     },
     "execution_count": 7,
     "metadata": {},
     "output_type": "execute_result"
    }
   ],
   "source": [
    "# ndarray datatype\n",
    "a.dtype"
   ]
  },
  {
   "cell_type": "code",
   "execution_count": 8,
   "id": "e22a7843",
   "metadata": {
    "scrolled": true
   },
   "outputs": [
    {
     "name": "stdout",
     "output_type": "stream",
     "text": [
      "float64\n"
     ]
    }
   ],
   "source": [
    "b = np.array([3.1,0.67,90])\n",
    "print(b.dtype)\n",
    "# It conerted the whole Array in the Float Data-Type Since every element of the array remains same Data-type"
   ]
  },
  {
   "cell_type": "code",
   "execution_count": 9,
   "id": "c3b90fa5",
   "metadata": {
    "scrolled": true
   },
   "outputs": [
    {
     "data": {
      "text/plain": [
       "array([ 3.1 ,  0.67, 90.  ])"
      ]
     },
     "execution_count": 9,
     "metadata": {},
     "output_type": "execute_result"
    }
   ],
   "source": [
    "b"
   ]
  },
  {
   "cell_type": "code",
   "execution_count": 10,
   "id": "54ab1525",
   "metadata": {},
   "outputs": [
    {
     "data": {
      "text/plain": [
       "0.67"
      ]
     },
     "execution_count": 10,
     "metadata": {},
     "output_type": "execute_result"
    }
   ],
   "source": [
    "# indexing -Part 2\n",
    "b[1]"
   ]
  },
  {
   "cell_type": "code",
   "execution_count": 11,
   "id": "88ab71b3",
   "metadata": {},
   "outputs": [],
   "source": [
    "# Assign a value  - Part 2 : Indexing & Assing a value \n",
    "b[0] = 100"
   ]
  },
  {
   "cell_type": "code",
   "execution_count": 12,
   "id": "7e5d7c68",
   "metadata": {},
   "outputs": [
    {
     "data": {
      "text/plain": [
       "array([100.  ,   0.67,  90.  ])"
      ]
     },
     "execution_count": 12,
     "metadata": {},
     "output_type": "execute_result"
    }
   ],
   "source": [
    "b"
   ]
  },
  {
   "cell_type": "code",
   "execution_count": 13,
   "id": "4c1df6f9",
   "metadata": {},
   "outputs": [
    {
     "data": {
      "text/plain": [
       "array([0, 1, 2, 3, 4, 5])"
      ]
     },
     "execution_count": 13,
     "metadata": {},
     "output_type": "execute_result"
    }
   ],
   "source": [
    "# Slicing in numpy\n",
    "a\n"
   ]
  },
  {
   "cell_type": "code",
   "execution_count": 14,
   "id": "235981e5",
   "metadata": {},
   "outputs": [
    {
     "data": {
      "text/plain": [
       "array([2, 3])"
      ]
     },
     "execution_count": 14,
     "metadata": {},
     "output_type": "execute_result"
    }
   ],
   "source": [
    "# Slicing \n",
    "a[2:4] # Give 2 & 3rd index"
   ]
  },
  {
   "cell_type": "code",
   "execution_count": 15,
   "id": "be4f7c93",
   "metadata": {},
   "outputs": [],
   "source": [
    "# Assigning a multiple values  at Same time \n",
    "a[2:4] = 20,30"
   ]
  },
  {
   "cell_type": "code",
   "execution_count": 16,
   "id": "654c994e",
   "metadata": {},
   "outputs": [
    {
     "data": {
      "text/plain": [
       "array([ 0,  1, 20, 30,  4,  5])"
      ]
     },
     "execution_count": 16,
     "metadata": {},
     "output_type": "execute_result"
    }
   ],
   "source": [
    "a"
   ]
  },
  {
   "cell_type": "code",
   "execution_count": 17,
   "id": "4d40c5a9",
   "metadata": {},
   "outputs": [
    {
     "data": {
      "text/plain": [
       "array([ 0, 10, 20, 30, 40, 50, 60, 70, 80])"
      ]
     },
     "execution_count": 17,
     "metadata": {},
     "output_type": "execute_result"
    }
   ],
   "source": [
    "# Other IMP  attributes\n",
    "n = np.array([0,10,20,30,40,50,60,70,80])\n",
    "n"
   ]
  },
  {
   "cell_type": "code",
   "execution_count": 18,
   "id": "4452261e",
   "metadata": {},
   "outputs": [
    {
     "data": {
      "text/plain": [
       "(9,)"
      ]
     },
     "execution_count": 18,
     "metadata": {},
     "output_type": "execute_result"
    }
   ],
   "source": [
    "n.shape  #  Shape of array"
   ]
  },
  {
   "cell_type": "code",
   "execution_count": 19,
   "id": "7df8fc3a",
   "metadata": {
    "scrolled": true
   },
   "outputs": [
    {
     "data": {
      "text/plain": [
       "1"
      ]
     },
     "execution_count": 19,
     "metadata": {},
     "output_type": "execute_result"
    }
   ],
   "source": [
    "n.ndim # Dimnesions to get"
   ]
  },
  {
   "cell_type": "code",
   "execution_count": 20,
   "id": "83f19343",
   "metadata": {},
   "outputs": [
    {
     "data": {
      "text/plain": [
       "9"
      ]
     },
     "execution_count": 20,
     "metadata": {},
     "output_type": "execute_result"
    }
   ],
   "source": [
    "n.size # Give Number of elements in array same as len() func in python"
   ]
  },
  {
   "cell_type": "code",
   "execution_count": 21,
   "id": "dff890de",
   "metadata": {},
   "outputs": [
    {
     "data": {
      "text/plain": [
       "9"
      ]
     },
     "execution_count": 21,
     "metadata": {},
     "output_type": "execute_result"
    }
   ],
   "source": [
    "len(n)  # sam as n.size in numpy , len is in python func "
   ]
  },
  {
   "cell_type": "code",
   "execution_count": 44,
   "id": "cbb8eb6d",
   "metadata": {},
   "outputs": [
    {
     "data": {
      "text/plain": [
       "dtype('int32')"
      ]
     },
     "execution_count": 44,
     "metadata": {},
     "output_type": "execute_result"
    }
   ],
   "source": [
    "n.dtype"
   ]
  },
  {
   "cell_type": "code",
   "execution_count": 59,
   "id": "594f5f26",
   "metadata": {},
   "outputs": [
    {
     "name": "stdout",
     "output_type": "stream",
     "text": [
      "<U1\n",
      "<U2\n",
      "<U2\n",
      "<U4\n",
      "<U6\n",
      "<U11\n",
      "int32\n"
     ]
    }
   ],
   "source": [
    "# New Encoding Symbols for original data types\n",
    "# NOTE : IMP :\n",
    "# single char had u1 , String with two chars having as u2 & Unicode for Number is U11\n",
    "# Example :\n",
    "arr1 =np.array(['a','b','c'])\n",
    "print(arr1.dtype)\n",
    "arr2 =np.array(['ab','cd','ef'])\n",
    "print(arr2.dtype)\n",
    "arr3 =np.array(['ab','cd','ef'])\n",
    "print(arr3.dtype)\n",
    "arr4 =np.array(['abc','def','ghi','jklm'])\n",
    "print(arr4.dtype)\n",
    "arr5 =np.array(['mitesh','cd','ef'])\n",
    "print(arr5.dtype)\n",
    "arr7 =np.array([1,'cd','ef'])\n",
    "print(arr7.dtype)\n",
    "arr8=np.array([1,45,100])\n",
    "print(arr8.dtype)\n"
   ]
  },
  {
   "cell_type": "code",
   "execution_count": null,
   "id": "5169c944",
   "metadata": {},
   "outputs": [],
   "source": []
  },
  {
   "cell_type": "code",
   "execution_count": 45,
   "id": "2ff78466",
   "metadata": {},
   "outputs": [
    {
     "data": {
      "text/plain": [
       "40.0"
      ]
     },
     "execution_count": 45,
     "metadata": {},
     "output_type": "execute_result"
    }
   ],
   "source": [
    "# Mathematical attributes/functions\n",
    "n.mean()"
   ]
  },
  {
   "cell_type": "code",
   "execution_count": 46,
   "id": "474ef433",
   "metadata": {},
   "outputs": [
    {
     "data": {
      "text/plain": [
       "25.81988897471611"
      ]
     },
     "execution_count": 46,
     "metadata": {},
     "output_type": "execute_result"
    }
   ],
   "source": [
    "n.std()"
   ]
  },
  {
   "cell_type": "code",
   "execution_count": 47,
   "id": "a20d6c2d",
   "metadata": {},
   "outputs": [
    {
     "data": {
      "text/plain": [
       "80"
      ]
     },
     "execution_count": 47,
     "metadata": {},
     "output_type": "execute_result"
    }
   ],
   "source": [
    "n.max()"
   ]
  },
  {
   "cell_type": "code",
   "execution_count": 48,
   "id": "796240ba",
   "metadata": {},
   "outputs": [
    {
     "data": {
      "text/plain": [
       "0"
      ]
     },
     "execution_count": 48,
     "metadata": {},
     "output_type": "execute_result"
    }
   ],
   "source": [
    "n.min()"
   ]
  },
  {
   "cell_type": "code",
   "execution_count": 40,
   "id": "9ef973fc",
   "metadata": {},
   "outputs": [
    {
     "data": {
      "text/plain": [
       "array(['a', 'mitesh', 'b', 'c'], dtype='<U6')"
      ]
     },
     "execution_count": 40,
     "metadata": {},
     "output_type": "execute_result"
    }
   ],
   "source": [
    "# New encoding of data type\n",
    "arr = np.array(['a','mitesh','b','c'])\n",
    "arr"
   ]
  },
  {
   "cell_type": "code",
   "execution_count": 60,
   "id": "eb2a38e1",
   "metadata": {},
   "outputs": [
    {
     "name": "stdout",
     "output_type": "stream",
     "text": [
      "<U1\n",
      "<U6\n",
      "<U11\n"
     ]
    }
   ],
   "source": [
    "print(np.array(['a','b']).dtype)\n",
    "print(np.array(['mitesh','b']).dtype)\n",
    "print(np.array(['a',1]).dtype)"
   ]
  },
  {
   "cell_type": "code",
   "execution_count": 67,
   "id": "61c4ad8e",
   "metadata": {},
   "outputs": [
    {
     "name": "stdout",
     "output_type": "stream",
     "text": [
      "[1 1]\n",
      "[ 1 -1]\n"
     ]
    }
   ],
   "source": [
    "#  Mathematical operations between two arrays ::\n",
    "\n",
    "x = np.array([1,0]) \n",
    "y = np.array([0,1])\n",
    "\n",
    "# VERY  IMP --> NUMPY do Element by element operation\n",
    "# 1 .Adition of two arrays\n",
    "print(x+y)\n",
    "# 2.Substraction\n",
    "print(x-y)"
   ]
  },
  {
   "cell_type": "code",
   "execution_count": 64,
   "id": "d0f02556",
   "metadata": {},
   "outputs": [
    {
     "ename": "ValueError",
     "evalue": "operands could not be broadcast together with shapes (2,) (3,) ",
     "output_type": "error",
     "traceback": [
      "\u001b[1;31m---------------------------------------------------------------------------\u001b[0m",
      "\u001b[1;31mValueError\u001b[0m                                Traceback (most recent call last)",
      "\u001b[1;32mC:\\Users\\MITESH~1\\AppData\\Local\\Temp/ipykernel_2788/2613941176.py\u001b[0m in \u001b[0;36m<module>\u001b[1;34m\u001b[0m\n\u001b[0;32m      1\u001b[0m \u001b[1;31m# error if both does not thave same number of length\u001b[0m\u001b[1;33m\u001b[0m\u001b[1;33m\u001b[0m\u001b[0m\n\u001b[0;32m      2\u001b[0m \u001b[0mz\u001b[0m \u001b[1;33m=\u001b[0m \u001b[0mnp\u001b[0m\u001b[1;33m.\u001b[0m\u001b[0marray\u001b[0m\u001b[1;33m(\u001b[0m\u001b[1;33m[\u001b[0m\u001b[1;36m0\u001b[0m\u001b[1;33m,\u001b[0m\u001b[1;36m1\u001b[0m\u001b[1;33m,\u001b[0m\u001b[1;36m2\u001b[0m\u001b[1;33m]\u001b[0m\u001b[1;33m)\u001b[0m\u001b[1;33m\u001b[0m\u001b[1;33m\u001b[0m\u001b[0m\n\u001b[1;32m----> 3\u001b[1;33m \u001b[0my\u001b[0m\u001b[1;33m+\u001b[0m\u001b[0mz\u001b[0m\u001b[1;33m\u001b[0m\u001b[1;33m\u001b[0m\u001b[0m\n\u001b[0m",
      "\u001b[1;31mValueError\u001b[0m: operands could not be broadcast together with shapes (2,) (3,) "
     ]
    }
   ],
   "source": [
    "# error if both does not thave same number of length\n",
    "z = np.array([0,1,2])\n",
    "y+z "
   ]
  },
  {
   "cell_type": "code",
   "execution_count": 82,
   "id": "282f8767",
   "metadata": {},
   "outputs": [
    {
     "name": "stdout",
     "output_type": "stream",
     "text": [
      "[1 0] [0 1]\n",
      "[ -9 -10]\n",
      "[3 2]\n",
      "[0 2]\n",
      "[0.5 0. ]\n"
     ]
    }
   ],
   "source": [
    "#  Scalar +,-,*,/   ::-\n",
    "print(x,y)\n",
    "print(x-10)\n",
    "print(x+2)\n",
    "print(y*2)\n",
    "print(x/2)          "
   ]
  },
  {
   "cell_type": "code",
   "execution_count": 71,
   "id": "8e44f91b",
   "metadata": {},
   "outputs": [
    {
     "name": "stdout",
     "output_type": "stream",
     "text": [
      "[0 0]\n",
      "[3 8]\n"
     ]
    }
   ],
   "source": [
    "#  Product of two Numpy Array\n",
    "print(x*y)\n",
    "x1=np.array([1,2])\n",
    "x2=np.array([3,4])\n",
    "print(x1*x2)"
   ]
  },
  {
   "cell_type": "code",
   "execution_count": 77,
   "id": "4bbcd9d4",
   "metadata": {},
   "outputs": [
    {
     "name": "stdout",
     "output_type": "stream",
     "text": [
      "[1 0] [0 1] [1 2] [3 4]\n"
     ]
    }
   ],
   "source": [
    "print(x,y,x1,x2) ## All arrays till now "
   ]
  },
  {
   "cell_type": "code",
   "execution_count": 50,
   "id": "d76ddc62",
   "metadata": {
    "scrolled": true
   },
   "outputs": [
    {
     "data": {
      "text/plain": [
       "0"
      ]
     },
     "execution_count": 50,
     "metadata": {},
     "output_type": "execute_result"
    }
   ],
   "source": [
    "np.dot(x,y)"
   ]
  },
  {
   "cell_type": "code",
   "execution_count": 76,
   "id": "1b149669",
   "metadata": {},
   "outputs": [
    {
     "name": "stdout",
     "output_type": "stream",
     "text": [
      "11\n",
      "0\n",
      "1\n"
     ]
    }
   ],
   "source": [
    "# Dot Product \n",
    "print(np.dot(x1,x2))\n",
    "print(np.dot(x,y))\n",
    "print(np.dot(x,x1))"
   ]
  },
  {
   "cell_type": "code",
   "execution_count": 49,
   "id": "ba9d69ad",
   "metadata": {},
   "outputs": [
    {
     "data": {
      "text/plain": [
       "array(1)"
      ]
     },
     "execution_count": 49,
     "metadata": {},
     "output_type": "execute_result"
    }
   ],
   "source": [
    "np.cross(x,y)"
   ]
  },
  {
   "cell_type": "code",
   "execution_count": 78,
   "id": "0dfadfb0",
   "metadata": {},
   "outputs": [
    {
     "name": "stdout",
     "output_type": "stream",
     "text": [
      "-2\n",
      "1\n",
      "2\n"
     ]
    }
   ],
   "source": [
    "# Cross Product \n",
    "print(np.cross(x1,x2))\n",
    "print(np.cross(x,y))\n",
    "print(np.cross(x,x1))"
   ]
  },
  {
   "cell_type": "code",
   "execution_count": 88,
   "id": "fa06d1b7",
   "metadata": {
    "scrolled": true
   },
   "outputs": [
    {
     "data": {
      "text/plain": [
       "3.141592653589793"
      ]
     },
     "execution_count": 88,
     "metadata": {},
     "output_type": "execute_result"
    }
   ],
   "source": [
    "# pi function \n",
    "np.pi"
   ]
  },
  {
   "cell_type": "code",
   "execution_count": 86,
   "id": "9fb7116c",
   "metadata": {},
   "outputs": [
    {
     "data": {
      "text/plain": [
       "array([3.14159265, 6.28318531, 1.57079633])"
      ]
     },
     "execution_count": 86,
     "metadata": {},
     "output_type": "execute_result"
    }
   ],
   "source": [
    "array_pi = np.array([np.pi,np.pi*2,np.pi/2])\n",
    "array_pi"
   ]
  },
  {
   "cell_type": "code",
   "execution_count": 94,
   "id": "2c724158",
   "metadata": {},
   "outputs": [
    {
     "name": "stdout",
     "output_type": "stream",
     "text": [
      "[1 0]\n"
     ]
    },
    {
     "data": {
      "text/plain": [
       "array([0.84147098, 0.        ])"
      ]
     },
     "execution_count": 94,
     "metadata": {},
     "output_type": "execute_result"
    }
   ],
   "source": [
    "# Trigo Functions of Numpy \n",
    "print(x)\n",
    "np.sin(x)"
   ]
  },
  {
   "cell_type": "code",
   "execution_count": 96,
   "id": "13f09e80",
   "metadata": {},
   "outputs": [
    {
     "data": {
      "text/plain": [
       "array([ 0.84147098,  0.90929743,  0.14112001, -0.7568025 , -0.95892427,\n",
       "       -0.2794155 ,  0.6569866 ,  0.98935825,  0.41211849, -0.54402111])"
      ]
     },
     "execution_count": 96,
     "metadata": {},
     "output_type": "execute_result"
    }
   ],
   "source": [
    "trigo_fun = np.array([1,2,3,4,5,6,7,8,9,10])\n",
    "\n",
    "np.sin(trigo_fun )"
   ]
  },
  {
   "cell_type": "code",
   "execution_count": 7,
   "id": "64b9ef2b",
   "metadata": {},
   "outputs": [
    {
     "data": {
      "text/plain": [
       "<ufunc 'tanh'>"
      ]
     },
     "execution_count": 7,
     "metadata": {},
     "output_type": "execute_result"
    }
   ],
   "source": [
    "# np.sinh  # cosec\n",
    "# np.cosh  # sec\n",
    "np.tanh  # cot"
   ]
  },
  {
   "cell_type": "code",
   "execution_count": 8,
   "id": "30009549",
   "metadata": {},
   "outputs": [
    {
     "data": {
      "text/plain": [
       "array([-2., -1.,  0.,  1.,  2.])"
      ]
     },
     "execution_count": 8,
     "metadata": {},
     "output_type": "execute_result"
    }
   ],
   "source": [
    "# linspace - linear space --> IMP\n",
    "# linearly spacing means all elements are equi-distance\n",
    "# means How many(c) linearly Spacing values we want between a & b :: np.linspace(a,b,num=c)  \n",
    "np.linspace(-2,2,num=5)"
   ]
  },
  {
   "cell_type": "code",
   "execution_count": 12,
   "id": "f4e72f0c",
   "metadata": {},
   "outputs": [],
   "source": [
    "values = np.linspace(-2,2,num=10)"
   ]
  },
  {
   "cell_type": "code",
   "execution_count": 17,
   "id": "35a87d4b",
   "metadata": {},
   "outputs": [
    {
     "data": {
      "text/plain": [
       "10"
      ]
     },
     "execution_count": 17,
     "metadata": {},
     "output_type": "execute_result"
    }
   ],
   "source": [
    "values.size # will always be same as num since we only specified"
   ]
  },
  {
   "cell_type": "code",
   "execution_count": 18,
   "id": "69f71807",
   "metadata": {
    "scrolled": true
   },
   "outputs": [
    {
     "data": {
      "text/plain": [
       "array([-2.        , -1.99198397, -1.98396794, -1.9759519 , -1.96793587,\n",
       "       -1.95991984, -1.95190381, -1.94388778, -1.93587174, -1.92785571,\n",
       "       -1.91983968, -1.91182365, -1.90380762, -1.89579158, -1.88777555,\n",
       "       -1.87975952, -1.87174349, -1.86372745, -1.85571142, -1.84769539,\n",
       "       -1.83967936, -1.83166333, -1.82364729, -1.81563126, -1.80761523,\n",
       "       -1.7995992 , -1.79158317, -1.78356713, -1.7755511 , -1.76753507,\n",
       "       -1.75951904, -1.75150301, -1.74348697, -1.73547094, -1.72745491,\n",
       "       -1.71943888, -1.71142285, -1.70340681, -1.69539078, -1.68737475,\n",
       "       -1.67935872, -1.67134269, -1.66332665, -1.65531062, -1.64729459,\n",
       "       -1.63927856, -1.63126253, -1.62324649, -1.61523046, -1.60721443,\n",
       "       -1.5991984 , -1.59118236, -1.58316633, -1.5751503 , -1.56713427,\n",
       "       -1.55911824, -1.5511022 , -1.54308617, -1.53507014, -1.52705411,\n",
       "       -1.51903808, -1.51102204, -1.50300601, -1.49498998, -1.48697395,\n",
       "       -1.47895792, -1.47094188, -1.46292585, -1.45490982, -1.44689379,\n",
       "       -1.43887776, -1.43086172, -1.42284569, -1.41482966, -1.40681363,\n",
       "       -1.3987976 , -1.39078156, -1.38276553, -1.3747495 , -1.36673347,\n",
       "       -1.35871743, -1.3507014 , -1.34268537, -1.33466934, -1.32665331,\n",
       "       -1.31863727, -1.31062124, -1.30260521, -1.29458918, -1.28657315,\n",
       "       -1.27855711, -1.27054108, -1.26252505, -1.25450902, -1.24649299,\n",
       "       -1.23847695, -1.23046092, -1.22244489, -1.21442886, -1.20641283,\n",
       "       -1.19839679, -1.19038076, -1.18236473, -1.1743487 , -1.16633267,\n",
       "       -1.15831663, -1.1503006 , -1.14228457, -1.13426854, -1.12625251,\n",
       "       -1.11823647, -1.11022044, -1.10220441, -1.09418838, -1.08617234,\n",
       "       -1.07815631, -1.07014028, -1.06212425, -1.05410822, -1.04609218,\n",
       "       -1.03807615, -1.03006012, -1.02204409, -1.01402806, -1.00601202,\n",
       "       -0.99799599, -0.98997996, -0.98196393, -0.9739479 , -0.96593186,\n",
       "       -0.95791583, -0.9498998 , -0.94188377, -0.93386774, -0.9258517 ,\n",
       "       -0.91783567, -0.90981964, -0.90180361, -0.89378758, -0.88577154,\n",
       "       -0.87775551, -0.86973948, -0.86172345, -0.85370741, -0.84569138,\n",
       "       -0.83767535, -0.82965932, -0.82164329, -0.81362725, -0.80561122,\n",
       "       -0.79759519, -0.78957916, -0.78156313, -0.77354709, -0.76553106,\n",
       "       -0.75751503, -0.749499  , -0.74148297, -0.73346693, -0.7254509 ,\n",
       "       -0.71743487, -0.70941884, -0.70140281, -0.69338677, -0.68537074,\n",
       "       -0.67735471, -0.66933868, -0.66132265, -0.65330661, -0.64529058,\n",
       "       -0.63727455, -0.62925852, -0.62124248, -0.61322645, -0.60521042,\n",
       "       -0.59719439, -0.58917836, -0.58116232, -0.57314629, -0.56513026,\n",
       "       -0.55711423, -0.5490982 , -0.54108216, -0.53306613, -0.5250501 ,\n",
       "       -0.51703407, -0.50901804, -0.501002  , -0.49298597, -0.48496994,\n",
       "       -0.47695391, -0.46893788, -0.46092184, -0.45290581, -0.44488978,\n",
       "       -0.43687375, -0.42885772, -0.42084168, -0.41282565, -0.40480962,\n",
       "       -0.39679359, -0.38877756, -0.38076152, -0.37274549, -0.36472946,\n",
       "       -0.35671343, -0.34869739, -0.34068136, -0.33266533, -0.3246493 ,\n",
       "       -0.31663327, -0.30861723, -0.3006012 , -0.29258517, -0.28456914,\n",
       "       -0.27655311, -0.26853707, -0.26052104, -0.25250501, -0.24448898,\n",
       "       -0.23647295, -0.22845691, -0.22044088, -0.21242485, -0.20440882,\n",
       "       -0.19639279, -0.18837675, -0.18036072, -0.17234469, -0.16432866,\n",
       "       -0.15631263, -0.14829659, -0.14028056, -0.13226453, -0.1242485 ,\n",
       "       -0.11623246, -0.10821643, -0.1002004 , -0.09218437, -0.08416834,\n",
       "       -0.0761523 , -0.06813627, -0.06012024, -0.05210421, -0.04408818,\n",
       "       -0.03607214, -0.02805611, -0.02004008, -0.01202405, -0.00400802,\n",
       "        0.00400802,  0.01202405,  0.02004008,  0.02805611,  0.03607214,\n",
       "        0.04408818,  0.05210421,  0.06012024,  0.06813627,  0.0761523 ,\n",
       "        0.08416834,  0.09218437,  0.1002004 ,  0.10821643,  0.11623246,\n",
       "        0.1242485 ,  0.13226453,  0.14028056,  0.14829659,  0.15631263,\n",
       "        0.16432866,  0.17234469,  0.18036072,  0.18837675,  0.19639279,\n",
       "        0.20440882,  0.21242485,  0.22044088,  0.22845691,  0.23647295,\n",
       "        0.24448898,  0.25250501,  0.26052104,  0.26853707,  0.27655311,\n",
       "        0.28456914,  0.29258517,  0.3006012 ,  0.30861723,  0.31663327,\n",
       "        0.3246493 ,  0.33266533,  0.34068136,  0.34869739,  0.35671343,\n",
       "        0.36472946,  0.37274549,  0.38076152,  0.38877756,  0.39679359,\n",
       "        0.40480962,  0.41282565,  0.42084168,  0.42885772,  0.43687375,\n",
       "        0.44488978,  0.45290581,  0.46092184,  0.46893788,  0.47695391,\n",
       "        0.48496994,  0.49298597,  0.501002  ,  0.50901804,  0.51703407,\n",
       "        0.5250501 ,  0.53306613,  0.54108216,  0.5490982 ,  0.55711423,\n",
       "        0.56513026,  0.57314629,  0.58116232,  0.58917836,  0.59719439,\n",
       "        0.60521042,  0.61322645,  0.62124248,  0.62925852,  0.63727455,\n",
       "        0.64529058,  0.65330661,  0.66132265,  0.66933868,  0.67735471,\n",
       "        0.68537074,  0.69338677,  0.70140281,  0.70941884,  0.71743487,\n",
       "        0.7254509 ,  0.73346693,  0.74148297,  0.749499  ,  0.75751503,\n",
       "        0.76553106,  0.77354709,  0.78156313,  0.78957916,  0.79759519,\n",
       "        0.80561122,  0.81362725,  0.82164329,  0.82965932,  0.83767535,\n",
       "        0.84569138,  0.85370741,  0.86172345,  0.86973948,  0.87775551,\n",
       "        0.88577154,  0.89378758,  0.90180361,  0.90981964,  0.91783567,\n",
       "        0.9258517 ,  0.93386774,  0.94188377,  0.9498998 ,  0.95791583,\n",
       "        0.96593186,  0.9739479 ,  0.98196393,  0.98997996,  0.99799599,\n",
       "        1.00601202,  1.01402806,  1.02204409,  1.03006012,  1.03807615,\n",
       "        1.04609218,  1.05410822,  1.06212425,  1.07014028,  1.07815631,\n",
       "        1.08617234,  1.09418838,  1.10220441,  1.11022044,  1.11823647,\n",
       "        1.12625251,  1.13426854,  1.14228457,  1.1503006 ,  1.15831663,\n",
       "        1.16633267,  1.1743487 ,  1.18236473,  1.19038076,  1.19839679,\n",
       "        1.20641283,  1.21442886,  1.22244489,  1.23046092,  1.23847695,\n",
       "        1.24649299,  1.25450902,  1.26252505,  1.27054108,  1.27855711,\n",
       "        1.28657315,  1.29458918,  1.30260521,  1.31062124,  1.31863727,\n",
       "        1.32665331,  1.33466934,  1.34268537,  1.3507014 ,  1.35871743,\n",
       "        1.36673347,  1.3747495 ,  1.38276553,  1.39078156,  1.3987976 ,\n",
       "        1.40681363,  1.41482966,  1.42284569,  1.43086172,  1.43887776,\n",
       "        1.44689379,  1.45490982,  1.46292585,  1.47094188,  1.47895792,\n",
       "        1.48697395,  1.49498998,  1.50300601,  1.51102204,  1.51903808,\n",
       "        1.52705411,  1.53507014,  1.54308617,  1.5511022 ,  1.55911824,\n",
       "        1.56713427,  1.5751503 ,  1.58316633,  1.59118236,  1.5991984 ,\n",
       "        1.60721443,  1.61523046,  1.62324649,  1.63126253,  1.63927856,\n",
       "        1.64729459,  1.65531062,  1.66332665,  1.67134269,  1.67935872,\n",
       "        1.68737475,  1.69539078,  1.70340681,  1.71142285,  1.71943888,\n",
       "        1.72745491,  1.73547094,  1.74348697,  1.75150301,  1.75951904,\n",
       "        1.76753507,  1.7755511 ,  1.78356713,  1.79158317,  1.7995992 ,\n",
       "        1.80761523,  1.81563126,  1.82364729,  1.83166333,  1.83967936,\n",
       "        1.84769539,  1.85571142,  1.86372745,  1.87174349,  1.87975952,\n",
       "        1.88777555,  1.89579158,  1.90380762,  1.91182365,  1.91983968,\n",
       "        1.92785571,  1.93587174,  1.94388778,  1.95190381,  1.95991984,\n",
       "        1.96793587,  1.9759519 ,  1.98396794,  1.99198397,  2.        ])"
      ]
     },
     "execution_count": 18,
     "metadata": {},
     "output_type": "execute_result"
    }
   ],
   "source": [
    "a = np.linspace(-2,2,num=500)\n",
    "a"
   ]
  },
  {
   "cell_type": "code",
   "execution_count": 19,
   "id": "96510834",
   "metadata": {},
   "outputs": [
    {
     "data": {
      "text/plain": [
       "(500,)"
      ]
     },
     "execution_count": 19,
     "metadata": {},
     "output_type": "execute_result"
    }
   ],
   "source": [
    "a.shape"
   ]
  },
  {
   "cell_type": "code",
   "execution_count": 20,
   "id": "a359efcb",
   "metadata": {},
   "outputs": [
    {
     "data": {
      "text/plain": [
       "500"
      ]
     },
     "execution_count": 20,
     "metadata": {},
     "output_type": "execute_result"
    }
   ],
   "source": [
    "a.size"
   ]
  },
  {
   "cell_type": "code",
   "execution_count": 23,
   "id": "1efe9c50",
   "metadata": {
    "scrolled": false
   },
   "outputs": [
    {
     "data": {
      "text/plain": [
       "array([ -2.        ,   2.12244898,   6.24489796,  10.36734694,\n",
       "        14.48979592,  18.6122449 ,  22.73469388,  26.85714286,\n",
       "        30.97959184,  35.10204082,  39.2244898 ,  43.34693878,\n",
       "        47.46938776,  51.59183673,  55.71428571,  59.83673469,\n",
       "        63.95918367,  68.08163265,  72.20408163,  76.32653061,\n",
       "        80.44897959,  84.57142857,  88.69387755,  92.81632653,\n",
       "        96.93877551, 101.06122449, 105.18367347, 109.30612245,\n",
       "       113.42857143, 117.55102041, 121.67346939, 125.79591837,\n",
       "       129.91836735, 134.04081633, 138.16326531, 142.28571429,\n",
       "       146.40816327, 150.53061224, 154.65306122, 158.7755102 ,\n",
       "       162.89795918, 167.02040816, 171.14285714, 175.26530612,\n",
       "       179.3877551 , 183.51020408, 187.63265306, 191.75510204,\n",
       "       195.87755102, 200.        ])"
      ]
     },
     "execution_count": 23,
     "metadata": {},
     "output_type": "execute_result"
    }
   ],
   "source": [
    "a = np.linspace(-2,200,num=50)\n",
    "a"
   ]
  },
  {
   "cell_type": "markdown",
   "id": "3df1c689",
   "metadata": {},
   "source": [
    "## End of this session"
   ]
  }
 ],
 "metadata": {
  "kernelspec": {
   "display_name": "Python 3 (ipykernel)",
   "language": "python",
   "name": "python3"
  },
  "language_info": {
   "codemirror_mode": {
    "name": "ipython",
    "version": 3
   },
   "file_extension": ".py",
   "mimetype": "text/x-python",
   "name": "python",
   "nbconvert_exporter": "python",
   "pygments_lexer": "ipython3",
   "version": "3.10.0"
  }
 },
 "nbformat": 4,
 "nbformat_minor": 5
}
