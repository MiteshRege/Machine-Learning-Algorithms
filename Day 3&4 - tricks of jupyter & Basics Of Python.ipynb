{
 "cells": [
  {
   "cell_type": "markdown",
   "id": "3713d1f2",
   "metadata": {},
   "source": [
    "  <h2>\n",
    "  Some short-hand trick of Jupyter\n",
    "    A -- for getting a new cell above current working cell             (note : this will work only when we click on the cell and not inside of the cell )\n",
    "    B -- for getting a new cell below  current working cell      same as above\n",
    "    \n",
    "    M -- for converting code cell to markdown cell\n",
    "    Y -- for converting markdown cell to code cell\n",
    "    dd -- press twice d -- for deleting that cell\n",
    "    z -- for undo that we done task on that cell (note : not to undo content inside the cell)\n",
    "    \n",
    "   </h2> \n",
    "    "
   ]
  },
  {
   "cell_type": "markdown",
   "id": "a68803c4",
   "metadata": {},
   "source": [
    "# Now we are gonna learn Some Tricks for Markdown language its similar to that of the html"
   ]
  },
  {
   "cell_type": "markdown",
   "id": "5afb883a",
   "metadata": {},
   "source": [
    "single hash works as h1 in html \n",
    "example :\n",
    "# This is written using single hash\n",
    "## This is written using 2 hash\n",
    "### This is written using 3 hash\n",
    "....\n",
    "###### and so on .. till  6 hash\n",
    "\n",
    "\n",
    "Image using this format  ![]()    as bracket is used for naming image and in parenthesis we give link of the image \n",
    "![Tux, the Linux mascot](/assets/images/tux.png)\n",
    "example :\n",
    "![](https://www.qries.com/images/banner_logo.png)"
   ]
  },
  {
   "cell_type": "markdown",
   "id": "8808a9be",
   "metadata": {},
   "source": [
    " double star for bold -- example :   Hi myself **Mitesh**   and  **br** tag new line for <br>\n",
    " single starf for italic -- example : Hi myself *Mitesh*    and  triple star for bold and italic  -- example : Hi myself ***Mitesh***"
   ]
  },
  {
   "cell_type": "markdown",
   "id": "465e8324",
   "metadata": {},
   "source": [
    " # for order list we use    this  -\n",
    " \n",
    " ## example 1  :\n",
    " - First\n",
    " - second\n",
    " - Third \n",
    " - forth \n",
    " \n",
    " ##  example 2 :\n",
    " - First item\n",
    " - Second item\n",
    " - Third item\n",
    "    - Indented item\n",
    "    - Indented item\n",
    " - Fourth item\n",
    " \n",
    " \n",
    " # Horizontal Rules :\n",
    " ## To create a horizontal rule, use three or more asterisks (***), dashes (---), or underscores (___) on a line by themselves.\n",
    " ## example :\n",
    "    \n",
    "hi ....\n",
    "\n",
    " ---\n",
    " \n",
    "   ... mitesh\n",
    "   \n",
    "# Blockquotes :\n",
    "   \n",
    "## To create a blockquote, add a > in front of a paragraph.\n",
    "> Hi myself mitesh rege , this is a blockquotes\n",
    "  \n",
    "  "
   ]
  },
  {
   "cell_type": "code",
   "execution_count": 1,
   "id": "4ae2e8a2",
   "metadata": {},
   "outputs": [
    {
     "name": "stdout",
     "output_type": "stream",
     "text": [
      "3.10.0 (tags/v3.10.0:b494f59, Oct  4 2021, 19:00:18) [MSC v.1929 64 bit (AMD64)]\n"
     ]
    }
   ],
   "source": [
    "# check the version of python \n",
    "import sys\n",
    "\n",
    "print(sys.version)"
   ]
  },
  {
   "cell_type": "code",
   "execution_count": 13,
   "id": "25fe7ee3",
   "metadata": {},
   "outputs": [
    {
     "name": "stdout",
     "output_type": "stream",
     "text": [
      "10.0\n"
     ]
    }
   ],
   "source": [
    "a=10\n",
    "print(float(a)) # type casting\n"
   ]
  },
  {
   "cell_type": "code",
   "execution_count": 15,
   "id": "21819db2",
   "metadata": {},
   "outputs": [
    {
     "data": {
      "text/plain": [
       "'hi'"
      ]
     },
     "execution_count": 15,
     "metadata": {},
     "output_type": "execute_result"
    }
   ],
   "source": [
    "#stiring \n",
    "'hi'\n"
   ]
  },
  {
   "cell_type": "code",
   "execution_count": 17,
   "id": "475a37d7",
   "metadata": {},
   "outputs": [
    {
     "data": {
      "text/plain": [
       "'hello'"
      ]
     },
     "execution_count": 17,
     "metadata": {},
     "output_type": "execute_result"
    }
   ],
   "source": [
    "\"hello\""
   ]
  },
  {
   "cell_type": "code",
   "execution_count": 19,
   "id": "068d58a8",
   "metadata": {},
   "outputs": [
    {
     "ename": "ValueError",
     "evalue": "invalid literal for int() with base 10: 'one'",
     "output_type": "error",
     "traceback": [
      "\u001b[1;31m---------------------------------------------------------------------------\u001b[0m",
      "\u001b[1;31mValueError\u001b[0m                                Traceback (most recent call last)",
      "\u001b[1;32mC:\\Users\\MITESH~1\\AppData\\Local\\Temp/ipykernel_11380/2575323473.py\u001b[0m in \u001b[0;36m<module>\u001b[1;34m\u001b[0m\n\u001b[1;32m----> 1\u001b[1;33m \u001b[0mint\u001b[0m\u001b[1;33m(\u001b[0m\u001b[1;34m'one'\u001b[0m\u001b[1;33m)\u001b[0m \u001b[1;31m# error    so cant do like this\u001b[0m\u001b[1;33m\u001b[0m\u001b[1;33m\u001b[0m\u001b[0m\n\u001b[0m",
      "\u001b[1;31mValueError\u001b[0m: invalid literal for int() with base 10: 'one'"
     ]
    }
   ],
   "source": [
    "int('one') # error    so cant do like this "
   ]
  },
  {
   "cell_type": "code",
   "execution_count": 22,
   "id": "8bab72bb",
   "metadata": {},
   "outputs": [
    {
     "name": "stdout",
     "output_type": "stream",
     "text": [
      "a\n",
      "97\n"
     ]
    }
   ],
   "source": [
    "# ascii to no. and vice varsa \n",
    "print(chr(97))  \n",
    "print(ord('a'))"
   ]
  },
  {
   "cell_type": "code",
   "execution_count": 33,
   "id": "d1866ef1",
   "metadata": {},
   "outputs": [
    {
     "name": "stdout",
     "output_type": "stream",
     "text": [
      "False\n",
      "True\n",
      "True\n",
      "True\n",
      "True\n",
      "<class 'bool'>\n",
      "<class 'str'>\n",
      "<class 'bool'>\n",
      "<class 'str'>\n"
     ]
    }
   ],
   "source": [
    "# bool - only 0 to false\n",
    "print(bool(0))\n",
    "print(bool(1))\n",
    "print(bool(0.5))\n",
    "print(bool(100))\n",
    "print(bool(0.9))\n",
    "print(type(True))\n",
    "print(type('True'))\n",
    "print(type(False))\n",
    "print(type(\" \"))"
   ]
  },
  {
   "cell_type": "markdown",
   "id": "33e88f00",
   "metadata": {},
   "source": [
    "###  Expressions ans variables\n"
   ]
  },
  {
   "cell_type": "code",
   "execution_count": 2,
   "id": "c1798734",
   "metadata": {},
   "outputs": [
    {
     "name": "stdout",
     "output_type": "stream",
     "text": [
      "Hello , What is this ?\n"
     ]
    }
   ],
   "source": [
    "# Task : Replace : 'hello what is this'   with     'Hello , What is this ?'\n",
    "# Soln :\n",
    "phase1 = 'hello what is this'\n",
    "soln    = phase1[0].upper() + phase1[1:5] + ' , ' + phase1[6].upper() + phase1[7:] + ' ?' \n",
    "print(soln)"
   ]
  },
  {
   "cell_type": "markdown",
   "id": "b9b65622",
   "metadata": {},
   "source": [
    "## 7 th Jan Lecture Starts Here"
   ]
  },
  {
   "cell_type": "markdown",
   "id": "0ddcf586",
   "metadata": {},
   "source": [
    "## Tuples and List"
   ]
  },
  {
   "cell_type": "code",
   "execution_count": 2,
   "id": "8c4058fc",
   "metadata": {},
   "outputs": [
    {
     "data": {
      "text/plain": [
       "(10, 'aa', 4)"
      ]
     },
     "execution_count": 2,
     "metadata": {},
     "output_type": "execute_result"
    }
   ],
   "source": [
    "tup = (10,'aa',4)\n",
    "tup"
   ]
  },
  {
   "cell_type": "code",
   "execution_count": 3,
   "id": "6b5c3592",
   "metadata": {
    "scrolled": true
   },
   "outputs": [
    {
     "data": {
      "text/plain": [
       "tuple"
      ]
     },
     "execution_count": 3,
     "metadata": {},
     "output_type": "execute_result"
    }
   ],
   "source": [
    "type(tup)"
   ]
  },
  {
   "cell_type": "code",
   "execution_count": 8,
   "id": "c42935b8",
   "metadata": {},
   "outputs": [
    {
     "name": "stdout",
     "output_type": "stream",
     "text": [
      "10\n",
      "('aa', 4)\n",
      "4\n",
      "aa\n",
      "<class 'int'>\n",
      "<class 'str'>\n",
      "<class 'int'>\n"
     ]
    }
   ],
   "source": [
    "print(tup[0])\n",
    "print(tup[1:])  # Slicing \n",
    "print(tup[-1])\n",
    "print(tup[-2])\n",
    "print(type(tup[0]))\n",
    "print(type(tup[1]))\n",
    "print(type(tup[2]))"
   ]
  },
  {
   "cell_type": "code",
   "execution_count": 11,
   "id": "d3011aba",
   "metadata": {},
   "outputs": [
    {
     "name": "stdout",
     "output_type": "stream",
     "text": [
      "(10, 'aa', 4, 1, 2)\n"
     ]
    },
    {
     "data": {
      "text/plain": [
       "(10, 'aa', 4)"
      ]
     },
     "execution_count": 11,
     "metadata": {},
     "output_type": "execute_result"
    }
   ],
   "source": [
    "# Concatenatte \n",
    "tup1 =tup + (1,2)\n",
    "print(tup1)\n",
    "# slicing\n",
    "tup1[0:3]"
   ]
  },
  {
   "cell_type": "code",
   "execution_count": 12,
   "id": "131b6449",
   "metadata": {},
   "outputs": [
    {
     "name": "stdout",
     "output_type": "stream",
     "text": [
      "[-5, 0, 4, 6, 100, 153, 1103]\n"
     ]
    }
   ],
   "source": [
    "# Sorted func in tuple \n",
    "tup3 = (100 , 4 , 6 ,0 , 153, -5 ,1103)\n",
    "print(sorted(tup3))"
   ]
  },
  {
   "cell_type": "code",
   "execution_count": 17,
   "id": "c6f9070d",
   "metadata": {},
   "outputs": [
    {
     "name": "stdout",
     "output_type": "stream",
     "text": [
      "5\n",
      "1\n",
      "b\n",
      "<class 'tuple'>\n"
     ]
    }
   ],
   "source": [
    "# Nested Tuple \n",
    "x = ( 1 , 8 , ('a' , 'b') , 5 , (5,1.0))\n",
    "print(len(x)) \n",
    "print(x[0])\n",
    "print(x[2][1])\n",
    "print(type(x[4]))"
   ]
  },
  {
   "cell_type": "markdown",
   "id": "47ec05ee",
   "metadata": {},
   "source": [
    "## Lists "
   ]
  },
  {
   "cell_type": "code",
   "execution_count": 18,
   "id": "4fc8ce5a",
   "metadata": {},
   "outputs": [
    {
     "name": "stdout",
     "output_type": "stream",
     "text": [
      "[5, 'mitesh', 100]\n",
      "mitesh\n",
      "['mitesh', 100]\n"
     ]
    }
   ],
   "source": [
    "lst = [5,'mitesh',100]\n",
    "print(lst)\n",
    "print(lst[1])\n",
    "print(lst[1:])"
   ]
  },
  {
   "cell_type": "code",
   "execution_count": 19,
   "id": "ebbc3fc1",
   "metadata": {},
   "outputs": [
    {
     "data": {
      "text/plain": [
       "[1, 2.0, [100, 500, 'Mitesh'], 'Rege', 'Xie', -100]"
      ]
     },
     "execution_count": 19,
     "metadata": {},
     "output_type": "execute_result"
    }
   ],
   "source": [
    "# Nested List \n",
    "nestedL = [1,2.0,[100,500,'Mitesh'],'Rege','Xie',-100]\n",
    "nestedL # Here Every thing llly to tuple "
   ]
  },
  {
   "cell_type": "markdown",
   "id": "4aeb24c1",
   "metadata": {},
   "source": [
    "## List Operations\n",
    "1. Adding\n",
    "- .append()\n",
    "- .extend\n",
    "2. Deleting\n",
    "- .pop()\n",
    "\n"
   ]
  },
  {
   "cell_type": "code",
   "execution_count": 20,
   "id": "3cf8541e",
   "metadata": {},
   "outputs": [
    {
     "data": {
      "text/plain": [
       "[1, 2, 5, 7, 100, 500, 9, -5, 1.0, 80, 'a', 'b']"
      ]
     },
     "execution_count": 20,
     "metadata": {},
     "output_type": "execute_result"
    }
   ],
   "source": [
    "l1 = [1,2,5,7,100,500,9,-5,1.0,80]\n",
    "l1.extend(['a','b'])  # Here Giving a list to append whereas in append it does add only one element \n",
    "l1"
   ]
  },
  {
   "cell_type": "code",
   "execution_count": 24,
   "id": "cd872a07",
   "metadata": {},
   "outputs": [
    {
     "data": {
      "text/plain": [
       "[1, 2, 5, 7, 100, 500, 9, -5, 1.0, 80, 'a', 'b', 200.0, 200.0, 'Hi']"
      ]
     },
     "execution_count": 24,
     "metadata": {},
     "output_type": "execute_result"
    }
   ],
   "source": [
    "# l1.append(200.0)\n",
    "# l1.append(200.0)\n",
    "l1.append('Hi')\n",
    "l1"
   ]
  },
  {
   "cell_type": "code",
   "execution_count": 25,
   "id": "7f9a4fb0",
   "metadata": {},
   "outputs": [
    {
     "data": {
      "text/plain": [
       "'Hi'"
      ]
     },
     "execution_count": 25,
     "metadata": {},
     "output_type": "execute_result"
    }
   ],
   "source": [
    "# pop delets last by default if not given position \n",
    "l1.pop()"
   ]
  },
  {
   "cell_type": "code",
   "execution_count": 26,
   "id": "f44c3dcf",
   "metadata": {},
   "outputs": [
    {
     "data": {
      "text/plain": [
       "[1, 2, 5, 7, 100, 500, 9, -5, 1.0, 80, 'a', 'b', 200.0, 200.0]"
      ]
     },
     "execution_count": 26,
     "metadata": {},
     "output_type": "execute_result"
    }
   ],
   "source": [
    "l1 # look hi got removed "
   ]
  },
  {
   "cell_type": "code",
   "execution_count": 27,
   "id": "f11dd3c9",
   "metadata": {},
   "outputs": [
    {
     "data": {
      "text/plain": [
       "2"
      ]
     },
     "execution_count": 27,
     "metadata": {},
     "output_type": "execute_result"
    }
   ],
   "source": [
    "l1.pop(1)"
   ]
  },
  {
   "cell_type": "code",
   "execution_count": 28,
   "id": "e6d8e673",
   "metadata": {
    "scrolled": true
   },
   "outputs": [
    {
     "data": {
      "text/plain": [
       "[1, 5, 7, 100, 500, 9, -5, 1.0, 80, 'a', 'b', 200.0, 200.0]"
      ]
     },
     "execution_count": 28,
     "metadata": {},
     "output_type": "execute_result"
    }
   ],
   "source": [
    "l1 # see i=2 got removed "
   ]
  },
  {
   "cell_type": "markdown",
   "id": "5ea6a71f",
   "metadata": {},
   "source": [
    "## Dictionary \n",
    "has ***Key***  (only be immutable datatype)  and ***Values***  ( any datatype )pairs "
   ]
  },
  {
   "cell_type": "code",
   "execution_count": 40,
   "id": "7a3d62f6",
   "metadata": {},
   "outputs": [
    {
     "data": {
      "text/plain": [
       "{'Key1': 'Value1', 'Key2': 'Value2', 'Key3': 'Value3'}"
      ]
     },
     "execution_count": 40,
     "metadata": {},
     "output_type": "execute_result"
    }
   ],
   "source": [
    "dic1= {\n",
    "    'Key1': 'Value1' ,\n",
    "    'Key2': 'Value2' ,\n",
    "    'Key3': 'Value3' ,\n",
    "}\n",
    "dic1"
   ]
  },
  {
   "cell_type": "code",
   "execution_count": 32,
   "id": "683db239",
   "metadata": {},
   "outputs": [
    {
     "data": {
      "text/plain": [
       "{'abc': 156, 5: 46, (4, 5): 'mitesh', (1, 2): [11, 2, 3, 5, 77]}"
      ]
     },
     "execution_count": 32,
     "metadata": {},
     "output_type": "execute_result"
    }
   ],
   "source": [
    "# note key cant be any immutable = unchangeable datatype as keycant be list \n",
    "dict2 = {'abc':156 , 5:46 , (4,5):'mitesh' , (1,2):[11,2,3,5,77]}\n",
    "dict2"
   ]
  },
  {
   "cell_type": "code",
   "execution_count": 33,
   "id": "514277a2",
   "metadata": {},
   "outputs": [
    {
     "data": {
      "text/plain": [
       "156"
      ]
     },
     "execution_count": 33,
     "metadata": {},
     "output_type": "execute_result"
    }
   ],
   "source": [
    "# access values by using key\n",
    "dict2['abc']   \n",
    "# here if wrong key entered to acces value then error name as key error not index error as that in list/tuple"
   ]
  },
  {
   "cell_type": "code",
   "execution_count": 34,
   "id": "a761754c",
   "metadata": {},
   "outputs": [
    {
     "data": {
      "text/plain": [
       "{'abc': 156, 5: 50, (4, 5): 'mitesh', (1, 2): [11, 2, 3, 5, 77]}"
      ]
     },
     "execution_count": 34,
     "metadata": {},
     "output_type": "execute_result"
    }
   ],
   "source": [
    "# changing the values of a key\n",
    "dict2[5]=50\n",
    "dict2"
   ]
  },
  {
   "cell_type": "code",
   "execution_count": 35,
   "id": "fb45a555",
   "metadata": {},
   "outputs": [
    {
     "data": {
      "text/plain": [
       "dict_values([156, 50, 'mitesh', [11, 2, 3, 5, 77]])"
      ]
     },
     "execution_count": 35,
     "metadata": {},
     "output_type": "execute_result"
    }
   ],
   "source": [
    "# Operations\n",
    "dict2.values()\n"
   ]
  },
  {
   "cell_type": "code",
   "execution_count": 36,
   "id": "df3d886f",
   "metadata": {
    "scrolled": true
   },
   "outputs": [
    {
     "data": {
      "text/plain": [
       "dict_keys(['abc', 5, (4, 5), (1, 2)])"
      ]
     },
     "execution_count": 36,
     "metadata": {},
     "output_type": "execute_result"
    }
   ],
   "source": [
    "dict2.keys()"
   ]
  },
  {
   "cell_type": "code",
   "execution_count": 37,
   "id": "68d0779a",
   "metadata": {
    "scrolled": true
   },
   "outputs": [
    {
     "data": {
      "text/plain": [
       "dict"
      ]
     },
     "execution_count": 37,
     "metadata": {},
     "output_type": "execute_result"
    }
   ],
   "source": [
    "type(dict2)"
   ]
  },
  {
   "cell_type": "code",
   "execution_count": 45,
   "id": "31b7272f",
   "metadata": {
    "scrolled": true
   },
   "outputs": [
    {
     "data": {
      "text/plain": [
       "True"
      ]
     },
     "execution_count": 45,
     "metadata": {},
     "output_type": "execute_result"
    }
   ],
   "source": [
    "'abc' in dict2"
   ]
  },
  {
   "cell_type": "code",
   "execution_count": 46,
   "id": "695861ab",
   "metadata": {},
   "outputs": [
    {
     "data": {
      "text/plain": [
       "True"
      ]
     },
     "execution_count": 46,
     "metadata": {},
     "output_type": "execute_result"
    }
   ],
   "source": [
    "'mitesh' in dict2.values()"
   ]
  },
  {
   "cell_type": "code",
   "execution_count": 44,
   "id": "dc0b11d2",
   "metadata": {},
   "outputs": [
    {
     "data": {
      "text/plain": [
       "True"
      ]
     },
     "execution_count": 44,
     "metadata": {},
     "output_type": "execute_result"
    }
   ],
   "source": [
    "'Value1' in dic1.values()"
   ]
  },
  {
   "cell_type": "markdown",
   "id": "ad7e738c",
   "metadata": {},
   "source": [
    "#  4 th of Jan Lecture starts "
   ]
  },
  {
   "cell_type": "markdown",
   "id": "1a26b240",
   "metadata": {},
   "source": [
    "## Conditional Operators  & Statements "
   ]
  },
  {
   "cell_type": "markdown",
   "id": "5c2327ea",
   "metadata": {},
   "source": [
    "- Equality                  :   ==\n",
    "- less than & greater tha   : <  &  >\n",
    "- Greater than and equal to :   >=\n",
    "- Less than and equal to    :   <=\n"
   ]
  },
  {
   "cell_type": "code",
   "execution_count": 35,
   "id": "5923bb38",
   "metadata": {},
   "outputs": [
    {
     "name": "stdout",
     "output_type": "stream",
     "text": [
      "False\n",
      "True\n",
      "True\n"
     ]
    }
   ],
   "source": [
    "a = 5\n",
    "print(a==6)\n",
    "print(a==5.0)\n",
    "print(a!=4)"
   ]
  },
  {
   "cell_type": "code",
   "execution_count": 30,
   "id": "ede50c2e",
   "metadata": {},
   "outputs": [
    {
     "name": "stdout",
     "output_type": "stream",
     "text": [
      "True\n",
      "False\n",
      "True\n",
      "True\n",
      "True\n"
     ]
    }
   ],
   "source": [
    "i=4\n",
    "print(i<6)\n",
    "print(i<4)\n",
    "print(i<6)\n",
    "print(i<=16)\n",
    "print(i>=4)"
   ]
  },
  {
   "cell_type": "code",
   "execution_count": 1,
   "id": "2b633e13",
   "metadata": {},
   "outputs": [
    {
     "name": "stdout",
     "output_type": "stream",
     "text": [
      "Congo , You are eligible for a Driving License \n",
      "yes\n",
      "Any Sting otherthan nothing is considered as true hence this gets printed \n"
     ]
    }
   ],
   "source": [
    "# Branching \n",
    "# If Else \n",
    "#Example :\n",
    "age = 20\n",
    "if age >= 18 :\n",
    "    print('Congo , You are eligible for a Driving License ')\n",
    "else:\n",
    "    print('Sorry , Under 18 Its not allowed to get license ')\n",
    "    \n",
    "# Note :   (if true ) => then only executed \n",
    "# Example 2 :\n",
    "if True :\n",
    "    print('yes')\n",
    "    \n",
    "# Example 3 :   # this will not get printed\n",
    "if False :\n",
    "    print('yes')\n",
    "    \n",
    "# Note for example 4 : nothing is also false  and every other than this is true \n",
    "# Example 4 : \n",
    "if \"\" :  #Since Its nothing then considered as  false \n",
    "    print(\"True\")\n",
    "# Example 5 : Contradict to exg4\n",
    "if \" \" :\n",
    "    print(\"Any String other than nothing is considered as true hence this gets printed \")\n",
    " "
   ]
  },
  {
   "cell_type": "code",
   "execution_count": 4,
   "id": "ab54e8e5",
   "metadata": {},
   "outputs": [
    {
     "name": "stdout",
     "output_type": "stream",
     "text": [
      "Enter Your Age :5\n",
      "Sorry not eligible \n"
     ]
    }
   ],
   "source": [
    "   \n",
    "# Example 6 : for if-elif-else\n",
    "x = int(input(\"Enter Your Age :\"))\n",
    "if x>=18:\n",
    "    print(\"Eigible\")\n",
    "elif x<18 & x>15 :\n",
    "    print(\"You are eligible for learning no for drivig license\")\n",
    "else :\n",
    "    print(\"Sorry not eligible \")"
   ]
  },
  {
   "cell_type": "code",
   "execution_count": 10,
   "id": "11a1f989",
   "metadata": {},
   "outputs": [
    {
     "data": {
      "text/plain": [
       "range(0, 5)"
      ]
     },
     "execution_count": 10,
     "metadata": {},
     "output_type": "execute_result"
    }
   ],
   "source": [
    "# Range concept \n",
    "range(5)\n"
   ]
  },
  {
   "cell_type": "code",
   "execution_count": 11,
   "id": "9b115597",
   "metadata": {},
   "outputs": [
    {
     "name": "stdout",
     "output_type": "stream",
     "text": [
      "0\n",
      "1\n",
      "2\n",
      "3\n",
      "4\n"
     ]
    }
   ],
   "source": [
    "# loop in python\n",
    "for x in range(5):\n",
    "    print(x)"
   ]
  },
  {
   "cell_type": "code",
   "execution_count": 16,
   "id": "6c7c94ea",
   "metadata": {},
   "outputs": [
    {
     "name": "stdout",
     "output_type": "stream",
     "text": [
      "100\n",
      "54\n",
      "6\n",
      "400\n",
      "8\n",
      "\n",
      "100\n",
      "54\n",
      "6\n",
      "400\n",
      "8\n"
     ]
    }
   ],
   "source": [
    "lst=[100,54,6,400,8]\n",
    "# method 1 :\n",
    "n = len(lst)\n",
    "for x in range(n):\n",
    "    print(lst[x])\n",
    "print()    \n",
    "# method 2 :\n",
    "for x in lst :\n",
    "    print(x)"
   ]
  },
  {
   "cell_type": "markdown",
   "id": "657f07da",
   "metadata": {},
   "source": [
    "## Function \n",
    "- Predefined function \n",
    "- User Defined Function \n"
   ]
  },
  {
   "cell_type": "code",
   "execution_count": 18,
   "id": "007569a3",
   "metadata": {},
   "outputs": [
    {
     "name": "stdout",
     "output_type": "stream",
     "text": [
      "Hi this is my firts function\n"
     ]
    }
   ],
   "source": [
    "def fun():\n",
    "    print(\"Hi this is my firts function\")\n",
    "    \n",
    "fun()"
   ]
  },
  {
   "cell_type": "code",
   "execution_count": 20,
   "id": "4ab3809c",
   "metadata": {},
   "outputs": [
    {
     "data": {
      "text/plain": [
       "7"
      ]
     },
     "execution_count": 20,
     "metadata": {},
     "output_type": "execute_result"
    }
   ],
   "source": [
    "# Take one no. and give by adding 1 \n",
    "def add_one(a):\n",
    "    return a+1\n",
    "add_one(6)"
   ]
  },
  {
   "cell_type": "markdown",
   "id": "179aee11",
   "metadata": {},
   "source": [
    "# Start of 9th jan Lecture "
   ]
  }
 ],
 "metadata": {
  "kernelspec": {
   "display_name": "Python 3 (ipykernel)",
   "language": "python",
   "name": "python3"
  },
  "language_info": {
   "codemirror_mode": {
    "name": "ipython",
    "version": 3
   },
   "file_extension": ".py",
   "mimetype": "text/x-python",
   "name": "python",
   "nbconvert_exporter": "python",
   "pygments_lexer": "ipython3",
   "version": "3.10.0"
  }
 },
 "nbformat": 4,
 "nbformat_minor": 5
}
